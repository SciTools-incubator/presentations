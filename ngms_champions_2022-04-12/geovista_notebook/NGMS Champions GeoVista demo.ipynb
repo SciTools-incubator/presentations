{
 "cells": [
  {
   "cell_type": "markdown",
   "id": "ca3f3ec3",
   "metadata": {},
   "source": [
    "# NGMS Champions - GeoVista Demonstration"
   ]
  },
  {
   "cell_type": "markdown",
   "id": "257be3bf",
   "metadata": {},
   "source": [
    "---\n",
    "\n",
    "## Regridding Visualisation\n",
    "\n",
    "This section is mostly setting up demonstration objects - the regridding and visualisation is at the end of the section."
   ]
  },
  {
   "cell_type": "code",
   "execution_count": null,
   "id": "7d434b4b",
   "metadata": {},
   "outputs": [],
   "source": [
    "from iris import load_cube\n",
    "from iris.experimental.ugrid import PARSE_UGRID_ON_LOAD\n",
    "from iris.tests import get_data_path\n",
    "import numpy as np\n",
    "\n",
    "# Get a sample datafile with a C48 cubesphere mesh.\n",
    "file_path = get_data_path([\"NetCDF\", \"unstructured_grid\", \"lfric_surface_mean.nc\"])\n",
    "\n",
    "with PARSE_UGRID_ON_LOAD.context():\n",
    "    cube_rotatedcs = load_cube(file_path, 'rainfall_flux')\n",
    "    # Simply make a separate copy with its own separate mesh (for now)\n",
    "    orig_cube_copy = load_cube(file_path, 'rainfall_flux')\n",
    "\n",
    "assert cube_rotatedcs.mesh == orig_cube_copy.mesh\n",
    "assert cube_rotatedcs.mesh is not orig_cube_copy.mesh\n",
    "assert cube_rotatedcs.mesh.node_coords.node_x is not orig_cube_copy.mesh.node_coords.node_x\n",
    "\n",
    "print(cube_rotatedcs)\n",
    "print(f'\\nCubesphere \"N\"={int(np.sqrt(cube_rotatedcs.shape[-1] / 6))}')"
   ]
  },
  {
   "cell_type": "code",
   "execution_count": null,
   "id": "1e435c56",
   "metadata": {},
   "outputs": [],
   "source": [
    "# Rotate the mesh coordinates to produce a more \"interesting\" mesh for our regrid target.\n",
    "\n",
    "from iris import coord_systems as icrs\n",
    "\n",
    "crs_plain = icrs.GeogCS(6.e6)\n",
    "crs_rot = icrs.RotatedGeogCS(35.7, 0.45, ellipsoid=crs_plain)\n",
    "ccrs_plain = crs_plain.as_cartopy_crs()\n",
    "ccrs_rot = crs_rot.as_cartopy_crs()\n",
    "\n",
    "\n",
    "# we need to grab the node locations and transform them.\n",
    "cube_nodes_xco = cube_rotatedcs.mesh.node_coords.node_x\n",
    "cube_nodes_yco = cube_rotatedcs.mesh.node_coords.node_y\n",
    "\n",
    "lat_pts = cube_nodes_yco.points\n",
    "lat_bds = cube_nodes_yco.bounds\n",
    "lon_pts = cube_nodes_xco.points\n",
    "lon_bds = cube_nodes_xco.bounds\n",
    "\n",
    "print(f'Original lon-pts minmax = {lon_pts.min(), lon_pts.max()}')\n",
    "print(f'Original lat-pts minmax = {lat_pts.min(), lat_pts.max()}')\n",
    "\n",
    "xxx_pts = ccrs_rot.transform_points(ccrs_plain, lon_pts, lat_pts)\n",
    "# xxx_bds = ccrs_rot.transform_points(ccrs_plain, lon_bds, lat_bds)\n",
    "print(f'transformed, shape = {xxx_pts.shape}')\n",
    "\n",
    "\n",
    "lon_pts_tx = xxx_pts[:, 0]\n",
    "lat_pts_tx = xxx_pts[:, 1]\n",
    "print(f'Tranformed lon-pts minmax = {lon_pts_tx.min(), lon_pts_tx.max()}')\n",
    "print(f'Tranformed lat-pts minmax = {lat_pts_tx.min(), lat_pts_tx.max()}')\n",
    "\n",
    "# Force-reset the coords\n",
    "cube_nodes_xco.points = lon_pts_tx\n",
    "cube_nodes_yco.points = lat_pts_tx\n",
    "assert cube_rotatedcs.mesh != orig_cube_copy.mesh"
   ]
  },
  {
   "cell_type": "code",
   "execution_count": null,
   "id": "f7ab8a7e",
   "metadata": {},
   "outputs": [],
   "source": [
    "# Load a basic (small) UM file for its lat-lon grid.\n",
    "fp2 = get_data_path(['FF', 'n48_multi_field'])\n",
    "import iris.exceptions\n",
    "iris.exceptions.IgnoreCubeException()\n",
    "\n",
    "# (A bit awkward, as there are two cubes with the same phenom name : one is a mean)\n",
    "def no_cellmeth(cube, field, filename):\n",
    "    if cube.cell_methods:\n",
    "        raise iris.exceptions.IgnoreCubeException()\n",
    "\n",
    "latlon_cube = iris.load_cube(fp2, 'air_temperature', callback=no_cellmeth)\n",
    "orog_cube = iris.load_cube(fp2, 'surface_altitude')\n",
    "\n",
    "for coord_name in (\"longitude\", \"latitude\"):\n",
    "    coord = latlon_cube.coord(coord_name)\n",
    "    if not coord.has_bounds():\n",
    "        coord.guess_bounds()\n",
    "\n",
    "print(latlon_cube)"
   ]
  },
  {
   "cell_type": "code",
   "execution_count": null,
   "id": "47aa8f40",
   "metadata": {},
   "outputs": [],
   "source": [
    "# Fetch some nice-looking original LFRic (unstructured) test data.\n",
    "file_path = get_data_path([\"NetCDF\", \"unstructured_grid\", \"lfric_ngvat_3D_1t_full_level_face_grid_main_area_fraction_unit1.nc\"])\n",
    "\n",
    "from iris.experimental.ugrid.load import PARSE_UGRID_ON_LOAD\n",
    "with PARSE_UGRID_ON_LOAD.context():\n",
    "    testdata_cube = load_cube(file_path, \"area_fraction\")\n",
    "\n",
    "print(testdata_cube)"
   ]
  },
  {
   "cell_type": "code",
   "execution_count": null,
   "id": "1d8f7571",
   "metadata": {},
   "outputs": [],
   "source": [
    "# Use iris-esmf-regrid for regridding\n",
    "import esmf_regrid as ief\n",
    "from esmf_regrid.experimental.unstructured_scheme import MeshToGridESMFRegridder\n",
    "from esmf_regrid.experimental.unstructured_scheme import GridToMeshESMFRegridder\n",
    "\n",
    "testdata_on_latlon_cube = MeshToGridESMFRegridder(testdata_cube, latlon_cube)(testdata_cube)\n",
    "test_backon_c12_cube = GridToMeshESMFRegridder(testdata_on_latlon_cube, testdata_cube)(testdata_on_latlon_cube)\n",
    "test_on_rotatedC48_cube = GridToMeshESMFRegridder(testdata_on_latlon_cube, cube_rotatedcs)(testdata_on_latlon_cube)"
   ]
  },
  {
   "cell_type": "markdown",
   "id": "bc854251",
   "metadata": {},
   "source": [
    "#### Visualisation steps are below this point"
   ]
  },
  {
   "cell_type": "code",
   "execution_count": null,
   "id": "1da762a6",
   "metadata": {},
   "outputs": [],
   "source": [
    "from geovista import Transform\n",
    "\n",
    "\n",
    "def pv_from_unstructcube(cube):\n",
    "    lon, lat = cube.mesh.node_coords\n",
    "    face_node = cube.mesh.face_node_connectivity\n",
    "    # Returns a PyVista PolyData class.\n",
    "    return Transform.from_unstructured(\n",
    "        xs=lon.points,\n",
    "        ys=lat.points,\n",
    "        connectivity=face_node.indices_by_location(),\n",
    "        start_index=face_node.start_index,\n",
    "        data=cube.data,\n",
    "        name=cube.name()\n",
    "    )\n",
    "\n",
    "\n",
    "def pv_from_structcube(cube):\n",
    "    xco = cube.coord(axis='x')\n",
    "    yco = cube.coord(axis='y')\n",
    "    for co in (xco, yco):\n",
    "        if not co.has_bounds():\n",
    "            co.guess_bounds()\n",
    "    # Returns a PyVista PolyData class.\n",
    "    return Transform.from_1d(xs=xco.bounds, ys=yco.bounds, data=cube.data, name=cube.name())\n",
    "\n",
    "\n",
    "# Display a single nice-looking layer\n",
    "onelayer_pd = pv_from_unstructcube(testdata_cube[0,10])\n",
    "testdata_on_latlon_pd = pv_from_structcube(testdata_on_latlon_cube[0,10])\n",
    "test_backon_c12_pd = pv_from_unstructcube(test_backon_c12_cube[0,10])\n",
    "test_on_rotatedC48_pd = pv_from_unstructcube(test_on_rotatedC48_cube[0,10])"
   ]
  },
  {
   "cell_type": "code",
   "execution_count": null,
   "id": "f17ef2f2",
   "metadata": {},
   "outputs": [],
   "source": [
    "from geovista.geoplotter import GeoPlotter\n",
    "from geovista import theme\n",
    "import pyvista as pv\n",
    "pv.global_theme.font.color = \"black\"\n",
    "pv.global_theme.edge_color = \"grey\"\n",
    "pv.global_theme.cmap = \"blues\"\n",
    "\n",
    "my_plotter = GeoPlotter(shape=(2, 2))\n",
    "\n",
    "polydata_names = [\n",
    "    (onelayer_pd, \"Original mesh data\"),\n",
    "    (testdata_on_latlon_pd, \"Regridded onto latlon\"),\n",
    "    (test_backon_c12_pd, \"Latlon -> back to C12\"),\n",
    "    (test_on_rotatedC48_pd, \"Latlon -> rotated C48\"),\n",
    "]\n",
    "\n",
    "for ix, pd_tuple in enumerate(polydata_names):\n",
    "    my_plotter.subplot(*np.unravel_index(ix, (2, 2)))\n",
    "    my_plotter.add_text(pd_tuple[-1], font_size=12)\n",
    "    my_plotter.add_coastlines()\n",
    "    my_plotter.add_mesh(pd_tuple[0], show_edges=True)\n",
    "\n",
    "my_plotter.link_views()\n",
    "my_plotter.camera.position = [0, -2.5, 2.5]\n",
    "my_plotter.show(jupyter_backend=\"ipyvtklink\")\n",
    "# my_plotter.show(jupyter_backend=\"static\")"
   ]
  },
  {
   "cell_type": "markdown",
   "id": "93448c5e",
   "metadata": {},
   "source": [
    "---\n",
    "\n",
    "## Projections"
   ]
  },
  {
   "cell_type": "code",
   "execution_count": null,
   "id": "d01c6b44",
   "metadata": {},
   "outputs": [],
   "source": [
    "# Load the data we'll be plotting.\n",
    "\n",
    "file_path = get_data_path([\"NetCDF\", \"unstructured_grid\", \"lfric_surface_mean.nc\"])\n",
    "with PARSE_UGRID_ON_LOAD.context():\n",
    "    my_cube = load_cube(file_path, \"zh\")\n",
    "\n",
    "# Time coord len==1 - should be a scalar coord, achieve this via indexing.\n",
    "my_cube = my_cube[0]\n",
    "print(my_cube)\n",
    "\n",
    "# Convert Cube to face-based PyVista PolyData.\n",
    "my_polydata = pv_from_unstructcube(my_cube)"
   ]
  },
  {
   "cell_type": "code",
   "execution_count": null,
   "id": "156f3d08",
   "metadata": {},
   "outputs": [],
   "source": [
    "# GeoVista coastline projection not yet supported. Use a representation of coastlines as Cube data instead.\n",
    "\n",
    "# import requests\n",
    "# r = requests.get(\"https://github.com/SciTools-incubator/presentations/raw/main/ngms_champions_2022-04-12/coastline_grid.nc\")\n",
    "# open(\"coastline_grid.nc\", \"wb\").write(r.content)\n",
    "\n",
    "coastline_cube = load_cube(\"coastline_grid.nc\")\n",
    "\n",
    "coastline_polydata = pv_from_structcube(coastline_cube)\n",
    "# Remove all NaN's (grid squares that aren't on a coast).\n",
    "coastline_polydata = coastline_polydata.threshold()"
   ]
  },
  {
   "cell_type": "code",
   "execution_count": null,
   "id": "9a59fb54",
   "metadata": {},
   "outputs": [],
   "source": [
    "from geovista.crs import WGS84\n",
    "\n",
    "def plot(plotter):\n",
    "    # Add the coastline cells 'above' the data itself.\n",
    "    plotter.add_mesh(\n",
    "        coastline_polydata,\n",
    "        color=\"white\",\n",
    "        show_edges=True,\n",
    "        edge_color=\"white\",\n",
    "        radius=1.1,     # For globe plots\n",
    "        zlevel=10,       # For planar plots\n",
    "    )\n",
    "    plot_polydata = my_polydata.copy()\n",
    "    plotter.add_mesh(plot_polydata)\n",
    "    if plotter.crs != WGS84:\n",
    "        # Projected plot.\n",
    "        plotter.camera_position = \"xy\"\n",
    "        backend = \"static\"\n",
    "    else:\n",
    "        backend = \"pythreejs\"\n",
    "#         backend = \"static\"\n",
    "    plotter.show(jupyter_backend=backend)"
   ]
  },
  {
   "cell_type": "code",
   "execution_count": null,
   "id": "128e52db",
   "metadata": {},
   "outputs": [],
   "source": [
    "globe_plotter = GeoPlotter()\n",
    "plot(globe_plotter)"
   ]
  },
  {
   "cell_type": "markdown",
   "id": "11cc29b9",
   "metadata": {},
   "source": [
    "#### Make projected plots using Proj strings\n",
    "\n",
    "Remember that we're still working on coastline support for projections!"
   ]
  },
  {
   "cell_type": "code",
   "execution_count": null,
   "id": "e2e19ab0",
   "metadata": {},
   "outputs": [],
   "source": [
    "moll_plotter = GeoPlotter(crs=\"+proj=moll\")\n",
    "plot(moll_plotter)"
   ]
  },
  {
   "cell_type": "code",
   "execution_count": null,
   "id": "788fb3df",
   "metadata": {},
   "outputs": [],
   "source": [
    "moll_plotter_90 = GeoPlotter(crs=\"+proj=moll +lon_0=90\")\n",
    "plot(moll_plotter_90)"
   ]
  },
  {
   "cell_type": "code",
   "execution_count": null,
   "id": "5585232d",
   "metadata": {},
   "outputs": [],
   "source": [
    "eqc_plotter = GeoPlotter(crs=\"+proj=eqc\")\n",
    "plot(eqc_plotter)"
   ]
  },
  {
   "cell_type": "markdown",
   "id": "163e7ea8",
   "metadata": {},
   "source": [
    "---\n",
    "\n",
    "## Any Mesh Layout"
   ]
  },
  {
   "cell_type": "markdown",
   "id": "33b3c617",
   "metadata": {},
   "source": [
    "Examples from past demonstrations/experiments:\n",
    "\n",
    "### Node-based data (LFRic orography)\n",
    "\n",
    "![LFRic Nodes](geovista_lfric_nodes.png)\n",
    "\n",
    "### 2D coordinates (ORCA)\n",
    "\n",
    "![NEMO](geovista_nemo.png)\n",
    "\n",
    "### Hexes\n",
    "\n",
    "![Hex Grid](geovista_hex.png)\n",
    "\n",
    "### Arbitrary face 'sidedness' (FESOM)\n",
    "\n",
    "![FESOM](geovista_fesom.png)"
   ]
  },
  {
   "cell_type": "markdown",
   "id": "e9be41c9",
   "metadata": {},
   "source": [
    "---\n",
    "\n",
    "## Unstructured Computations"
   ]
  },
  {
   "cell_type": "markdown",
   "id": "e15fdc65",
   "metadata": {},
   "source": [
    "### Regional extraction"
   ]
  },
  {
   "cell_type": "code",
   "execution_count": null,
   "id": "aac180ea",
   "metadata": {},
   "outputs": [],
   "source": [
    "from geovista.geodesic import BBox\n",
    "\n",
    "global_polydata = my_polydata\n",
    "\n",
    "# Get those indices of the mesh that are within a region.\n",
    "region = BBox(lons=[0, 70, 70, 0], lats=[-25, -25, 45, 45])\n",
    "region_polydata = region.enclosed(global_polydata, preference=\"center\")\n",
    "\n",
    "# Note the reduced cells and points.\n",
    "print(global_polydata)\n",
    "print(region_polydata)"
   ]
  },
  {
   "cell_type": "code",
   "execution_count": null,
   "id": "41120db1",
   "metadata": {},
   "outputs": [],
   "source": [
    "# The ID's of those cells that are within the region.\n",
    "indices = region_polydata[\"vtkOriginalCellIds\"]\n",
    "print(indices)"
   ]
  },
  {
   "cell_type": "code",
   "execution_count": null,
   "id": "189d77dd",
   "metadata": {},
   "outputs": [],
   "source": [
    "from iris.experimental.ugrid import Mesh\n",
    "\n",
    "global_cube = my_cube\n",
    "\n",
    "# Use the derived indices to subset the original Cube.\n",
    "region_cube = global_cube[indices]\n",
    "\n",
    "# Convert the sub-setted Cube back into a Cube-with-Mesh.\n",
    "new_mesh = Mesh.from_coords(*region_cube.coords(dimensions=0))\n",
    "new_mesh_coords = new_mesh.to_MeshCoords(global_cube.location)\n",
    "for coord in new_mesh_coords:\n",
    "    region_cube.remove_coord(coord.name())\n",
    "    region_cube.add_aux_coord(coord, 0)\n",
    "\n",
    "# Note the reduced number of faces.\n",
    "print(global_cube)\n",
    "print(region_cube)"
   ]
  },
  {
   "cell_type": "markdown",
   "id": "3ea9f941",
   "metadata": {},
   "source": [
    "**Emphasis:** this workflow did not require plotting at any step.\n",
    "\n",
    "We will now plot the result just so you can see it."
   ]
  },
  {
   "cell_type": "code",
   "execution_count": null,
   "id": "ddd18980",
   "metadata": {},
   "outputs": [],
   "source": [
    "def plot_region(polydata, title=None):\n",
    "    region_plotter = GeoPlotter(crs=\"+proj=moll +lon_0=135\")    \n",
    "    region_plotter.add_mesh(\n",
    "        coastline_polydata,\n",
    "        color=\"black\",\n",
    "        show_edges=True,\n",
    "        edge_color=\"black\",\n",
    "        zlevel=10\n",
    "    )\n",
    "    region_plotter.add_mesh(polydata)\n",
    "    region_plotter.camera_position = \"xy\"\n",
    "    if title:\n",
    "        region_plotter.add_text(title, font_size=12)\n",
    "    region_plotter.show(jupyter_backend=\"static\")\n",
    "\n",
    "plot_region(pv_from_unstructcube(region_cube))"
   ]
  },
  {
   "cell_type": "markdown",
   "id": "1e84d95b",
   "metadata": {},
   "source": [
    "Latitude bounds (as opposed to great circles) are also possible"
   ]
  },
  {
   "cell_type": "markdown",
   "id": "b49ca9e2",
   "metadata": {},
   "source": [
    "### Combining meshes"
   ]
  },
  {
   "cell_type": "markdown",
   "id": "687200e3",
   "metadata": {},
   "source": [
    "### and many more..."
   ]
  },
  {
   "cell_type": "markdown",
   "id": "f74fdbfb",
   "metadata": {},
   "source": [
    "---\n",
    "\n",
    "## Library Interoperability\n",
    "\n",
    "GeoVista objects are created from basic Python arrays - therefore flexible enough to work with _all_ popular scientific Python packages."
   ]
  },
  {
   "cell_type": "code",
   "execution_count": null,
   "id": "2d22714b",
   "metadata": {},
   "outputs": [],
   "source": [
    "import xarray\n",
    "\n",
    "global_ds = xarray.open_dataset(get_data_path([\"NetCDF\", \"unstructured_grid\", \"lfric_surface_mean.nc\"]))\n",
    "\n",
    "# Remove other dimensions for this demo - geovista only wants the horizontal dimension.\n",
    "global_ds = global_ds.isel(time_counter=0)\n",
    "\n",
    "print(global_ds)"
   ]
  },
  {
   "cell_type": "code",
   "execution_count": null,
   "id": "cf1d7ac1",
   "metadata": {},
   "outputs": [],
   "source": [
    "def pv_from_xarray(ds):\n",
    "    # This solution is specific to this file - there isn't yet an official way to represent UGRID in xarray.\n",
    "    lons = ds.variables[\"Mesh2d_half_levels_node_x\"]\n",
    "    lats = ds.variables[\"Mesh2d_half_levels_node_y\"]\n",
    "    face_node = ds.variables[\"Mesh2d_half_levels_face_nodes\"]\n",
    "    indices = face_node.data\n",
    "    ds_data = ds.variables[\"zh\"].data\n",
    "\n",
    "    return Transform.from_unstructured(\n",
    "        lons.data, lats.data, indices, data=ds_data,\n",
    "        start_index=face_node.attrs[\"start_index\"]\n",
    "    )\n",
    "\n",
    "global_polydata_xarray = pv_from_xarray(global_ds)\n",
    "\n",
    "print(global_polydata)\n",
    "print(global_polydata_xarray)"
   ]
  },
  {
   "cell_type": "code",
   "execution_count": null,
   "id": "10e39884",
   "metadata": {},
   "outputs": [],
   "source": [
    "# Regionally subset the polydata and use the indices to subset the original xarray.\n",
    "region_polydata_xarray = region.enclosed(global_polydata_xarray, preference=\"center\")\n",
    "indices_xarray = region_polydata_xarray[\"vtkOriginalCellIds\"]\n",
    "region_ds = global_ds.isel(nMesh2d_half_levels_face=indices_xarray)\n",
    "\n",
    "# Note the reduced number of faces.\n",
    "print(global_ds)\n",
    "print(region_ds)"
   ]
  },
  {
   "cell_type": "code",
   "execution_count": null,
   "id": "41c7166e",
   "metadata": {},
   "outputs": [],
   "source": [
    "plot_region(pv_from_unstructcube(region_cube), \"Via Iris\")\n",
    "plot_region(pv_from_xarray(region_ds), \"Via xarray\")"
   ]
  }
 ],
 "metadata": {
  "kernelspec": {
   "display_name": "Python 3 (ipykernel)",
   "language": "python",
   "name": "python3"
  },
  "language_info": {
   "codemirror_mode": {
    "name": "ipython",
    "version": 3
   },
   "file_extension": ".py",
   "mimetype": "text/x-python",
   "name": "python",
   "nbconvert_exporter": "python",
   "pygments_lexer": "ipython3",
   "version": "3.8.13"
  }
 },
 "nbformat": 4,
 "nbformat_minor": 5
}
