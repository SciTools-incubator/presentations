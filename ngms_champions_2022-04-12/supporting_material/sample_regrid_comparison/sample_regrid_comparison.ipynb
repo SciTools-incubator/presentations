{
 "cells": [
  {
   "cell_type": "markdown",
   "id": "29a6ca8a",
   "metadata": {},
   "source": [
    "# Quick fudge to provide sample data for regridded comparison"
   ]
  },
  {
   "cell_type": "code",
   "execution_count": 1,
   "id": "ed4cdd74",
   "metadata": {},
   "outputs": [],
   "source": [
    "# Adjust environment to fix the iris-test-data location\n",
    "import os\n",
    "os.environ['OVERRIDE_TEST_DATA_REPOSITORY'] = \"/data/users/itpp/git/iris-test-data/test_data\""
   ]
  },
  {
   "cell_type": "code",
   "execution_count": 2,
   "id": "43f13b0c",
   "metadata": {},
   "outputs": [],
   "source": [
    "import numpy as np\n",
    "\n",
    "import iris\n",
    "from iris import load_cube\n",
    "import iris.coord_systems as icrs\n",
    "from iris.experimental.ugrid import PARSE_UGRID_ON_LOAD\n",
    "from iris.tests import get_data_path"
   ]
  },
  {
   "cell_type": "code",
   "execution_count": 3,
   "id": "504b1d07",
   "metadata": {},
   "outputs": [],
   "source": [
    "import iris.config"
   ]
  },
  {
   "cell_type": "code",
   "execution_count": 4,
   "id": "c8d65768",
   "metadata": {},
   "outputs": [
    {
     "name": "stdout",
     "output_type": "stream",
     "text": [
      "/data/users/itpp/git/iris-test-data/test_data\n"
     ]
    }
   ],
   "source": [
    "print(iris.config.TEST_DATA_DIR)"
   ]
  },
  {
   "cell_type": "code",
   "execution_count": 5,
   "id": "02d32b77",
   "metadata": {},
   "outputs": [
    {
     "name": "stdout",
     "output_type": "stream",
     "text": [
      "rainfall_flux / (kg m-2 s-1)        (-- : 1; -- : 13824)\n",
      "    Mesh coordinates:\n",
      "        latitude                        -       x\n",
      "        longitude                       -       x\n",
      "    Auxiliary coordinates:\n",
      "        time                            x       -\n",
      "    Cell methods:\n",
      "        mean                        time (300 s)\n",
      "        mean                        time_counter\n",
      "    Attributes:\n",
      "        Conventions                 'UGRID'\n",
      "        description                 'Created by xios'\n",
      "        interval_operation          '300 s'\n",
      "        interval_write              '1 d'\n",
      "        name                        'lfric_surface'\n",
      "        online_operation            'average'\n",
      "        timeStamp                   '2020-Feb-07 16:23:14 GMT'\n",
      "        title                       'Created by xios'\n",
      "        uuid                        '489bcef5-3d1c-4529-be42-4ab5f8c8497b'\n",
      "\n",
      "Cubesphere \"N\"=48\n"
     ]
    }
   ],
   "source": [
    "# Get a sample datafile with a C48 cubesphere mesh.\n",
    "file_path = get_data_path([\"NetCDF\", \"unstructured_grid\", \"lfric_surface_mean.nc\"])\n",
    "\n",
    "with PARSE_UGRID_ON_LOAD.context():\n",
    "  cube_rotatedcs = load_cube(file_path, 'rainfall_flux')\n",
    "  # Simply make a separate copy with its own separate mesh (for now)\n",
    "  orig_cube_copy = load_cube(file_path, 'rainfall_flux')\n",
    "\n",
    "assert cube_rotatedcs.mesh == orig_cube_copy.mesh\n",
    "assert cube_rotatedcs.mesh is not orig_cube_copy.mesh\n",
    "assert cube_rotatedcs.mesh.node_coords.node_x is not orig_cube_copy.mesh.node_coords.node_x\n",
    "\n",
    "print(cube_rotatedcs)\n",
    "print(f'\\nCubesphere \"N\"={int(np.sqrt(cube_rotatedcs.shape[-1] / 6))}')"
   ]
  },
  {
   "cell_type": "code",
   "execution_count": 6,
   "id": "6d8450c6",
   "metadata": {},
   "outputs": [
    {
     "name": "stdout",
     "output_type": "stream",
     "text": [
      "Original lon-pts minmax = (0.0, 358.125)\n",
      "Original lat-pts minmax = (-90.0, 90.0)\n",
      "transformed, shape = (13826, 3)\n",
      "Tranformed lon-pts minmax = (-180.0, 179.98227674550594)\n",
      "Tranformed lat-pts minmax = (-89.62677763516267, 89.62677763516267)\n"
     ]
    }
   ],
   "source": [
    "# Rotate the mesh coordinates to produce a more \"interesting\" mesh for our regrid target.\n",
    "crs_plain = icrs.GeogCS(6.e6)\n",
    "crs_rot = icrs.RotatedGeogCS(35.7, 0.45, ellipsoid=crs_plain)\n",
    "ccrs_plain = crs_plain.as_cartopy_crs()\n",
    "ccrs_rot = crs_rot.as_cartopy_crs()\n",
    "\n",
    "\n",
    "# we need to grab the node locations and transform them.\n",
    "cube_nodes_xco = cube_rotatedcs.mesh.node_coords.node_x\n",
    "cube_nodes_yco = cube_rotatedcs.mesh.node_coords.node_y\n",
    "\n",
    "lat_pts = cube_nodes_yco.points\n",
    "lat_bds = cube_nodes_yco.bounds\n",
    "lon_pts = cube_nodes_xco.points\n",
    "lon_bds = cube_nodes_xco.bounds\n",
    "\n",
    "print(f'Original lon-pts minmax = {lon_pts.min(), lon_pts.max()}')\n",
    "print(f'Original lat-pts minmax = {lat_pts.min(), lat_pts.max()}')\n",
    "\n",
    "xxx_pts = ccrs_rot.transform_points(ccrs_plain, lon_pts, lat_pts)\n",
    "# xxx_bds = ccrs_rot.transform_points(ccrs_plain, lon_bds, lat_bds)\n",
    "print(f'transformed, shape = {xxx_pts.shape}')\n",
    "\n",
    "\n",
    "lon_pts_tx = xxx_pts[:, 0]\n",
    "lat_pts_tx = xxx_pts[:, 1]\n",
    "print(f'Tranformed lon-pts minmax = {lon_pts_tx.min(), lon_pts_tx.max()}')\n",
    "print(f'Tranformed lat-pts minmax = {lat_pts_tx.min(), lat_pts_tx.max()}')\n",
    "\n",
    "# Force-reset the coords\n",
    "cube_nodes_xco.points = lon_pts_tx\n",
    "cube_nodes_yco.points = lat_pts_tx\n",
    "assert cube_rotatedcs.mesh != orig_cube_copy.mesh"
   ]
  },
  {
   "cell_type": "code",
   "execution_count": 7,
   "id": "24400ada",
   "metadata": {},
   "outputs": [],
   "source": [
    "# Display these both ??\n",
    "\n",
    "from geovista import Transform\n",
    "from geovista.geoplotter import GeoPlotter\n",
    "from geovista import theme"
   ]
  },
  {
   "cell_type": "code",
   "execution_count": 8,
   "id": "b2515134",
   "metadata": {},
   "outputs": [],
   "source": [
    "def pv_from_unstructcube(cube):\n",
    "    return Transform.from_unstructured(\n",
    "        xs=cube.mesh.node_coords.node_x.points,\n",
    "        ys=cube.mesh.node_coords.node_y.points,\n",
    "        connectivity=cube.mesh.face_node_connectivity.indices_by_location(),\n",
    "        data=cube.data,\n",
    "    )    "
   ]
  },
  {
   "cell_type": "code",
   "execution_count": 9,
   "id": "1b5a2a92",
   "metadata": {},
   "outputs": [
    {
     "data": {
      "application/vnd.jupyter.widget-view+json": {
       "model_id": "3f9f9f4c1fb8473185cd96d2be88dcd8",
       "version_major": 2,
       "version_minor": 0
      },
      "text/plain": [
       "ViewInteractiveWidget(height=768, layout=Layout(height='auto', width='100%'), width=1024)"
      ]
     },
     "metadata": {},
     "output_type": "display_data"
    }
   ],
   "source": [
    "my_polydata = pv_from_unstructcube(cube_rotatedcs)\n",
    "\n",
    "my_plotter = GeoPlotter()\n",
    "my_plotter.theme.font.color = (0.5,) * 3\n",
    "my_plotter.theme.edge_color = 'pink'\n",
    "my_plotter.add_coastlines()\n",
    "my_plotter.add_mesh(my_polydata, show_edges=True)\n",
    "my_plotter.show()"
   ]
  },
  {
   "cell_type": "code",
   "execution_count": null,
   "id": "03f6f86d",
   "metadata": {},
   "outputs": [],
   "source": []
  },
  {
   "cell_type": "code",
   "execution_count": 10,
   "id": "c15d2b89",
   "metadata": {},
   "outputs": [],
   "source": [
    "# Load a basic (small) UM file for its lat-lon grid.\n",
    "fp2 = get_data_path(['FF', 'n48_multi_field'])\n",
    "import iris.exceptions\n",
    "iris.exceptions.IgnoreCubeException()\n",
    "\n",
    "# (A bit awkward, as there are two cubes with the same phenom name : one is a mean)\n",
    "def no_cellmeth(cube, field, filename):\n",
    "    if cube.cell_methods:\n",
    "        raise iris.exceptions.IgnoreCubeException()\n",
    "\n",
    "latlon_cube = iris.load_cube(fp2, 'air_temperature', callback=no_cellmeth)\n",
    "orog_cube = iris.load_cube(fp2, 'surface_altitude')"
   ]
  },
  {
   "cell_type": "code",
   "execution_count": 11,
   "id": "adcfdcac",
   "metadata": {},
   "outputs": [
    {
     "name": "stdout",
     "output_type": "stream",
     "text": [
      "air_temperature / (K)               (latitude: 73; longitude: 96)\n",
      "    Dimension coordinates:\n",
      "        latitude                             x              -\n",
      "        longitude                            -              x\n",
      "    Scalar coordinates:\n",
      "        forecast_period             0.0 hours\n",
      "        forecast_reference_time     2011-07-11 00:00:00\n",
      "        height                      1.5 m\n",
      "        time                        2011-07-11 00:00:00\n",
      "    Attributes:\n",
      "        STASH                       m01s03i236\n",
      "        source                      'Data from Met Office Unified Model'\n",
      "        um_version                  '8.2'\n"
     ]
    }
   ],
   "source": [
    "print(latlon_cube)"
   ]
  },
  {
   "cell_type": "code",
   "execution_count": 12,
   "id": "c9074f8f",
   "metadata": {},
   "outputs": [],
   "source": [
    "# Routine to create a Polydata from a structured 2d cube.\n",
    "def pv_from_structcube(cube):\n",
    "    xco = cube.coord(axis='x')\n",
    "    yco = cube.coord(axis='y')\n",
    "    for co in (xco, yco):\n",
    "        if not co.has_bounds():\n",
    "            co.guess_bounds()\n",
    "    return Transform.from_1d(xs=xco.bounds, ys=yco.bounds, data=cube.data)"
   ]
  },
  {
   "cell_type": "code",
   "execution_count": 13,
   "id": "3482b81f",
   "metadata": {},
   "outputs": [],
   "source": [
    "# Routine to display a single mesh (Polydata) with PyVista\n",
    "def display_one(mesh):\n",
    "    my_plotter = GeoPlotter()\n",
    "    my_plotter.theme.font.color = (0.5,) * 3\n",
    "    my_plotter.theme.edge_color = 'pink'\n",
    "    my_plotter.add_coastlines()\n",
    "    my_plotter.add_mesh(mesh, show_edges=True)\n",
    "    my_plotter.show()"
   ]
  },
  {
   "cell_type": "code",
   "execution_count": 14,
   "id": "76078232",
   "metadata": {},
   "outputs": [
    {
     "data": {
      "application/vnd.jupyter.widget-view+json": {
       "model_id": "24bd1f7388ed4f12a77d89e603befb36",
       "version_major": 2,
       "version_minor": 0
      },
      "text/plain": [
       "ViewInteractiveWidget(height=768, layout=Layout(height='auto', width='100%'), width=1024)"
      ]
     },
     "metadata": {},
     "output_type": "display_data"
    }
   ],
   "source": [
    "# Show the latlon sample data (grid)\n",
    "latlon_mesh = pv_from_structcube(latlon_cube)\n",
    "display_one(latlon_mesh)"
   ]
  },
  {
   "cell_type": "code",
   "execution_count": null,
   "id": "8799f61c",
   "metadata": {},
   "outputs": [],
   "source": []
  },
  {
   "cell_type": "code",
   "execution_count": 15,
   "id": "83297bb7",
   "metadata": {},
   "outputs": [],
   "source": [
    "# Use iris-esmf-regrid for regridding\n",
    "import esmf_regrid as ief"
   ]
  },
  {
   "cell_type": "code",
   "execution_count": 16,
   "id": "690597c8",
   "metadata": {},
   "outputs": [
    {
     "name": "stdout",
     "output_type": "stream",
     "text": [
      "area_fraction / (1)                 (-- : 1; full_levels: 39; -- : 864)\n",
      "    Dimension coordinates:\n",
      "        full_levels                     -               x        -\n",
      "    Mesh coordinates:\n",
      "        latitude                        -               -        x\n",
      "        longitude                       -               -        x\n",
      "    Auxiliary coordinates:\n",
      "        time                            x               -        -\n",
      "    Cell methods:\n",
      "        point                       time (300 s)\n",
      "    Attributes:\n",
      "        Conventions                 'UGRID'\n",
      "        description                 'Created by xios'\n",
      "        interval_operation          '300 s'\n",
      "        interval_write              '21600 s'\n",
      "        name                        'lfric_ngvat_3D_1t_full_level_face_grid_main_area_fraction_unit1'\n",
      "        online_operation            'instant'\n",
      "        timeStamp                   '2020-Oct-18 21:20:19 GMT'\n",
      "        title                       'Created by xios'\n",
      "        uuid                        'e9218bc2-9665-4ee8-ac7c-b456c02ff9af'\n"
     ]
    }
   ],
   "source": [
    "# Fetch some nice-looking original LFRic (unstructured) test data.\n",
    "file_path = get_data_path([\"NetCDF\", \"unstructured_grid\", \"lfric_ngvat_3D_1t_full_level_face_grid_main_area_fraction_unit1.nc\"])\n",
    "\n",
    "from iris.experimental.ugrid.load import PARSE_UGRID_ON_LOAD\n",
    "with PARSE_UGRID_ON_LOAD.context():\n",
    "    testdata_cube = load_cube(file_path, \"area_fraction\")\n",
    "\n",
    "print(testdata_cube)"
   ]
  },
  {
   "cell_type": "code",
   "execution_count": 17,
   "id": "422e0915",
   "metadata": {},
   "outputs": [
    {
     "data": {
      "application/vnd.jupyter.widget-view+json": {
       "model_id": "8b15f1c6707c487898d5cd60337957de",
       "version_major": 2,
       "version_minor": 0
      },
      "text/plain": [
       "ViewInteractiveWidget(height=768, layout=Layout(height='auto', width='100%'), width=1024)"
      ]
     },
     "metadata": {},
     "output_type": "display_data"
    }
   ],
   "source": [
    "# Display a single nice-looking layer\n",
    "onelayer_mesh = pv_from_unstructcube(testdata_cube[0,10])\n",
    "\n",
    "display_one(onelayer_mesh)"
   ]
  },
  {
   "cell_type": "code",
   "execution_count": null,
   "id": "d811df78",
   "metadata": {},
   "outputs": [],
   "source": []
  },
  {
   "cell_type": "code",
   "execution_count": 18,
   "id": "6e2af9a4",
   "metadata": {},
   "outputs": [],
   "source": [
    "# Regrid the test data onto the latlon grid.\n",
    "import esmf_regrid as ief\n",
    "from esmf_regrid.experimental.unstructured_scheme import MeshToGridESMFRegridder\n",
    "from esmf_regrid.experimental.unstructured_scheme import GridToMeshESMFRegridder"
   ]
  },
  {
   "cell_type": "code",
   "execution_count": 19,
   "id": "199214ff",
   "metadata": {},
   "outputs": [],
   "source": [
    "regridder = MeshToGridESMFRegridder(testdata_cube, latlon_cube)\n",
    "testdata_on_latlon_cube = regridder(testdata_cube)"
   ]
  },
  {
   "cell_type": "code",
   "execution_count": 20,
   "id": "542fe137",
   "metadata": {},
   "outputs": [
    {
     "data": {
      "application/vnd.jupyter.widget-view+json": {
       "model_id": "223cfac08d254dad92946dad719fdda6",
       "version_major": 2,
       "version_minor": 0
      },
      "text/plain": [
       "ViewInteractiveWidget(height=768, layout=Layout(height='auto', width='100%'), width=1024)"
      ]
     },
     "metadata": {},
     "output_type": "display_data"
    }
   ],
   "source": [
    "# Show that\n",
    "testdata_on_latlon_mesh = pv_from_structcube(testdata_on_latlon_cube[0,10])\n",
    "display_one(testdata_on_latlon_mesh)"
   ]
  },
  {
   "cell_type": "code",
   "execution_count": 21,
   "id": "9b17c05a",
   "metadata": {},
   "outputs": [],
   "source": [
    "# Now regrid this \"back\" onto the basic cubesphere mesh + compare those\n",
    "test_backon_c12_cube = GridToMeshESMFRegridder(testdata_on_latlon_cube, testdata_cube)(testdata_on_latlon_cube)"
   ]
  },
  {
   "cell_type": "code",
   "execution_count": 22,
   "id": "6b362816",
   "metadata": {},
   "outputs": [],
   "source": [
    "test_backon_c12_mesh = pv_from_unstructcube(test_backon_c12_cube[0,10])"
   ]
  },
  {
   "cell_type": "code",
   "execution_count": 23,
   "id": "db52c0ed",
   "metadata": {},
   "outputs": [],
   "source": [
    "test_on_rotatedC48_cube = GridToMeshESMFRegridder(testdata_on_latlon_cube, cube_rotatedcs)(testdata_on_latlon_cube)"
   ]
  },
  {
   "cell_type": "code",
   "execution_count": 24,
   "id": "d8dfe32a",
   "metadata": {},
   "outputs": [],
   "source": [
    "test_on_rotatedC48_mesh = pv_from_unstructcube(test_on_rotatedC48_cube[0,10])"
   ]
  },
  {
   "cell_type": "code",
   "execution_count": 25,
   "id": "c5af1d6e",
   "metadata": {},
   "outputs": [
    {
     "data": {
      "application/vnd.jupyter.widget-view+json": {
       "model_id": "6456eb360c5e4cd3b13b4eee7cb399fd",
       "version_major": 2,
       "version_minor": 0
      },
      "text/plain": [
       "ViewInteractiveWidget(height=768, layout=Layout(height='auto', width='100%'), width=1024)"
      ]
     },
     "metadata": {},
     "output_type": "display_data"
    }
   ],
   "source": [
    "my_plotter = GeoPlotter(shape=(2, 2))\n",
    "\n",
    "my_plotter.subplot(0, 0)\n",
    "my_plotter.add_text(\"Original mesh data\", font_size=12)\n",
    "my_plotter.add_coastlines()\n",
    "my_plotter.add_mesh(onelayer_mesh, show_edges=True)\n",
    "\n",
    "my_plotter.subplot(0, 1)\n",
    "my_plotter.add_text(\"Regridded onto latlon\", font_size=12)\n",
    "my_plotter.add_coastlines()\n",
    "my_plotter.add_mesh(testdata_on_latlon_mesh, show_edges=True)\n",
    "\n",
    "my_plotter.subplot(1, 0)\n",
    "my_plotter.add_text(\"Latlon -> back to C12\", font_size=12)\n",
    "my_plotter.add_coastlines()\n",
    "my_plotter.add_mesh(test_backon_c12_mesh, show_edges=True)\n",
    "\n",
    "my_plotter.subplot(1, 1)\n",
    "my_plotter.add_text(\"Latlon -> rotated C48\", font_size=12)\n",
    "my_plotter.add_coastlines()\n",
    "my_plotter.add_mesh(test_on_rotatedC48_mesh, show_edges=True)\n",
    "\n",
    "my_plotter.link_views()\n",
    "my_plotter.camera.position = [0, -2.5, 2.5]\n",
    "my_plotter.show()"
   ]
  },
  {
   "cell_type": "code",
   "execution_count": null,
   "id": "87e72653",
   "metadata": {},
   "outputs": [],
   "source": []
  },
  {
   "cell_type": "code",
   "execution_count": 26,
   "id": "580d8368",
   "metadata": {},
   "outputs": [],
   "source": [
    "# Save all the files shown in the above.\n",
    "\n",
    "iris.save(testdata_cube, 'data_orig.nc')  # the 'area_fraction' cube from the original file\n",
    "iris.save(testdata_on_latlon_cube, 'data_latlon.nc')\n",
    "iris.save(test_backon_c12_cube, 'latlon_regridded_C12.nc')\n",
    "iris.save(test_on_rotatedC48_cube, 'latlon_regridded_rotC48.nc')"
   ]
  },
  {
   "cell_type": "code",
   "execution_count": null,
   "id": "3281baae",
   "metadata": {},
   "outputs": [],
   "source": []
  },
  {
   "cell_type": "code",
   "execution_count": null,
   "id": "ab813a14",
   "metadata": {},
   "outputs": [],
   "source": []
  }
 ],
 "metadata": {
  "kernelspec": {
   "display_name": "Python 3 (ipykernel)",
   "language": "python",
   "name": "python3"
  },
  "language_info": {
   "codemirror_mode": {
    "name": "ipython",
    "version": 3
   },
   "file_extension": ".py",
   "mimetype": "text/x-python",
   "name": "python",
   "nbconvert_exporter": "python",
   "pygments_lexer": "ipython3",
   "version": "3.8.13"
  }
 },
 "nbformat": 4,
 "nbformat_minor": 5
}
